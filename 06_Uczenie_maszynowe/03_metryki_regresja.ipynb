{
  "nbformat": 4,
  "nbformat_minor": 0,
  "metadata": {
    "colab": {
      "provenance": [],
      "authorship_tag": "ABX9TyNO9dddVJW+9qUU9GekupXF",
      "include_colab_link": true
    },
    "kernelspec": {
      "name": "python3",
      "display_name": "Python 3"
    },
    "language_info": {
      "name": "python"
    }
  },
  "cells": [
    {
      "cell_type": "markdown",
      "metadata": {
        "id": "view-in-github",
        "colab_type": "text"
      },
      "source": [
        "<a href=\"https://colab.research.google.com/github/MarcinJanCiesielski/data_science_bootcamp/blob/main/06_Uczenie_maszynowe/03_metryki_regresja.ipynb\" target=\"_parent\"><img src=\"https://colab.research.google.com/assets/colab-badge.svg\" alt=\"Open In Colab\"/></a>"
      ]
    },
    {
      "cell_type": "markdown",
      "source": [
        "#Import bibliotek"
      ],
      "metadata": {
        "id": "b42v2Y-GXtaX"
      }
    },
    {
      "cell_type": "code",
      "execution_count": 1,
      "metadata": {
        "id": "BbzLMKrghQSC"
      },
      "outputs": [],
      "source": [
        "import numpy as np\n",
        "import pandas as pd\n",
        "import plotly.express as px\n",
        "import plotly.graph_objects as go"
      ]
    },
    {
      "cell_type": "code",
      "source": [
        "y_true = 100 + 20 * np.random.randn(50)\n",
        "y_true"
      ],
      "metadata": {
        "colab": {
          "base_uri": "https://localhost:8080/"
        },
        "id": "N5k773LvX6Ks",
        "outputId": "37275519-f4e0-4283-9014-10f024799420"
      },
      "execution_count": 2,
      "outputs": [
        {
          "output_type": "execute_result",
          "data": {
            "text/plain": [
              "array([111.83280343, 123.42575715, 100.46304804, 127.47527606,\n",
              "       111.04849429, 116.28794317, 112.43217284,  76.96068268,\n",
              "       125.50302363, 107.55446148, 107.87181292, 124.51690575,\n",
              "       122.06332837,  83.64105932,  87.59472556, 109.70589972,\n",
              "       107.1191026 ,  85.44680357,  99.5919494 ,  85.81015787,\n",
              "       116.28328978,  92.57661164, 104.60276595, 100.12033583,\n",
              "       122.82965893, 101.7713298 ,  87.46788573, 106.13904009,\n",
              "        95.74143758,  82.9822025 ,  79.28429167,  98.36583979,\n",
              "       120.02882083,  54.32000434, 121.04049509, 101.84895446,\n",
              "       119.07207269, 107.89867042, 113.17114756,  71.1942877 ,\n",
              "        68.31799493, 105.12902662, 106.27144287,  64.69127144,\n",
              "        97.42157183, 100.3162656 , 113.17227067,  73.8712743 ,\n",
              "       110.42372648, 105.43047199])"
            ]
          },
          "metadata": {},
          "execution_count": 2
        }
      ]
    },
    {
      "cell_type": "code",
      "source": [
        "y_pred = y_true + 10 * np.random.randn(50)\n",
        "y_pred"
      ],
      "metadata": {
        "colab": {
          "base_uri": "https://localhost:8080/"
        },
        "id": "HoYBpZLmX-aV",
        "outputId": "94a9522f-63d6-4418-869c-e4cd602a424b"
      },
      "execution_count": 3,
      "outputs": [
        {
          "output_type": "execute_result",
          "data": {
            "text/plain": [
              "array([115.40720217, 120.10350208, 108.13609219, 118.39234081,\n",
              "       118.48442845, 132.74469492, 111.05885839,  70.74534566,\n",
              "       131.74961191, 126.86579302,  88.04273752, 137.33050483,\n",
              "       107.19984285,  83.10838361,  88.02335414, 126.19720579,\n",
              "       125.28251594,  91.9970502 ,  97.76056292,  81.73747626,\n",
              "       126.64408138,  67.37808196,  92.98727675,  72.2486291 ,\n",
              "       106.28346422, 107.49172619,  95.18244252, 104.64048378,\n",
              "        84.09038341,  81.81771039,  70.2274172 , 100.44155282,\n",
              "       121.9068166 ,  67.26775737, 121.49404468, 110.9447351 ,\n",
              "       124.46708033, 112.23419148, 110.43970933,  69.3538961 ,\n",
              "        81.24939355,  92.72795411, 112.91005929,  65.36838392,\n",
              "        91.58844119,  93.28377172, 118.43119184,  84.25184287,\n",
              "       108.8509308 ,  99.89002839])"
            ]
          },
          "metadata": {},
          "execution_count": 3
        }
      ]
    },
    {
      "cell_type": "code",
      "source": [
        "results = pd.DataFrame({'y_true': y_true, 'y_pred': y_pred})\n",
        "results.head()"
      ],
      "metadata": {
        "colab": {
          "base_uri": "https://localhost:8080/",
          "height": 206
        },
        "id": "qlJrgDAEYByT",
        "outputId": "9eef8be0-a3ed-4f7e-a84d-65a69407f515"
      },
      "execution_count": 4,
      "outputs": [
        {
          "output_type": "execute_result",
          "data": {
            "text/plain": [
              "       y_true      y_pred\n",
              "0  111.832803  115.407202\n",
              "1  123.425757  120.103502\n",
              "2  100.463048  108.136092\n",
              "3  127.475276  118.392341\n",
              "4  111.048494  118.484428"
            ],
            "text/html": [
              "\n",
              "  <div id=\"df-90756543-fb08-4a87-a7e7-f25aa7541b02\">\n",
              "    <div class=\"colab-df-container\">\n",
              "      <div>\n",
              "<style scoped>\n",
              "    .dataframe tbody tr th:only-of-type {\n",
              "        vertical-align: middle;\n",
              "    }\n",
              "\n",
              "    .dataframe tbody tr th {\n",
              "        vertical-align: top;\n",
              "    }\n",
              "\n",
              "    .dataframe thead th {\n",
              "        text-align: right;\n",
              "    }\n",
              "</style>\n",
              "<table border=\"1\" class=\"dataframe\">\n",
              "  <thead>\n",
              "    <tr style=\"text-align: right;\">\n",
              "      <th></th>\n",
              "      <th>y_true</th>\n",
              "      <th>y_pred</th>\n",
              "    </tr>\n",
              "  </thead>\n",
              "  <tbody>\n",
              "    <tr>\n",
              "      <th>0</th>\n",
              "      <td>111.832803</td>\n",
              "      <td>115.407202</td>\n",
              "    </tr>\n",
              "    <tr>\n",
              "      <th>1</th>\n",
              "      <td>123.425757</td>\n",
              "      <td>120.103502</td>\n",
              "    </tr>\n",
              "    <tr>\n",
              "      <th>2</th>\n",
              "      <td>100.463048</td>\n",
              "      <td>108.136092</td>\n",
              "    </tr>\n",
              "    <tr>\n",
              "      <th>3</th>\n",
              "      <td>127.475276</td>\n",
              "      <td>118.392341</td>\n",
              "    </tr>\n",
              "    <tr>\n",
              "      <th>4</th>\n",
              "      <td>111.048494</td>\n",
              "      <td>118.484428</td>\n",
              "    </tr>\n",
              "  </tbody>\n",
              "</table>\n",
              "</div>\n",
              "      <button class=\"colab-df-convert\" onclick=\"convertToInteractive('df-90756543-fb08-4a87-a7e7-f25aa7541b02')\"\n",
              "              title=\"Convert this dataframe to an interactive table.\"\n",
              "              style=\"display:none;\">\n",
              "        \n",
              "  <svg xmlns=\"http://www.w3.org/2000/svg\" height=\"24px\"viewBox=\"0 0 24 24\"\n",
              "       width=\"24px\">\n",
              "    <path d=\"M0 0h24v24H0V0z\" fill=\"none\"/>\n",
              "    <path d=\"M18.56 5.44l.94 2.06.94-2.06 2.06-.94-2.06-.94-.94-2.06-.94 2.06-2.06.94zm-11 1L8.5 8.5l.94-2.06 2.06-.94-2.06-.94L8.5 2.5l-.94 2.06-2.06.94zm10 10l.94 2.06.94-2.06 2.06-.94-2.06-.94-.94-2.06-.94 2.06-2.06.94z\"/><path d=\"M17.41 7.96l-1.37-1.37c-.4-.4-.92-.59-1.43-.59-.52 0-1.04.2-1.43.59L10.3 9.45l-7.72 7.72c-.78.78-.78 2.05 0 2.83L4 21.41c.39.39.9.59 1.41.59.51 0 1.02-.2 1.41-.59l7.78-7.78 2.81-2.81c.8-.78.8-2.07 0-2.86zM5.41 20L4 18.59l7.72-7.72 1.47 1.35L5.41 20z\"/>\n",
              "  </svg>\n",
              "      </button>\n",
              "      \n",
              "  <style>\n",
              "    .colab-df-container {\n",
              "      display:flex;\n",
              "      flex-wrap:wrap;\n",
              "      gap: 12px;\n",
              "    }\n",
              "\n",
              "    .colab-df-convert {\n",
              "      background-color: #E8F0FE;\n",
              "      border: none;\n",
              "      border-radius: 50%;\n",
              "      cursor: pointer;\n",
              "      display: none;\n",
              "      fill: #1967D2;\n",
              "      height: 32px;\n",
              "      padding: 0 0 0 0;\n",
              "      width: 32px;\n",
              "    }\n",
              "\n",
              "    .colab-df-convert:hover {\n",
              "      background-color: #E2EBFA;\n",
              "      box-shadow: 0px 1px 2px rgba(60, 64, 67, 0.3), 0px 1px 3px 1px rgba(60, 64, 67, 0.15);\n",
              "      fill: #174EA6;\n",
              "    }\n",
              "\n",
              "    [theme=dark] .colab-df-convert {\n",
              "      background-color: #3B4455;\n",
              "      fill: #D2E3FC;\n",
              "    }\n",
              "\n",
              "    [theme=dark] .colab-df-convert:hover {\n",
              "      background-color: #434B5C;\n",
              "      box-shadow: 0px 1px 3px 1px rgba(0, 0, 0, 0.15);\n",
              "      filter: drop-shadow(0px 1px 2px rgba(0, 0, 0, 0.3));\n",
              "      fill: #FFFFFF;\n",
              "    }\n",
              "  </style>\n",
              "\n",
              "      <script>\n",
              "        const buttonEl =\n",
              "          document.querySelector('#df-90756543-fb08-4a87-a7e7-f25aa7541b02 button.colab-df-convert');\n",
              "        buttonEl.style.display =\n",
              "          google.colab.kernel.accessAllowed ? 'block' : 'none';\n",
              "\n",
              "        async function convertToInteractive(key) {\n",
              "          const element = document.querySelector('#df-90756543-fb08-4a87-a7e7-f25aa7541b02');\n",
              "          const dataTable =\n",
              "            await google.colab.kernel.invokeFunction('convertToInteractive',\n",
              "                                                     [key], {});\n",
              "          if (!dataTable) return;\n",
              "\n",
              "          const docLinkHtml = 'Like what you see? Visit the ' +\n",
              "            '<a target=\"_blank\" href=https://colab.research.google.com/notebooks/data_table.ipynb>data table notebook</a>'\n",
              "            + ' to learn more about interactive tables.';\n",
              "          element.innerHTML = '';\n",
              "          dataTable['output_type'] = 'display_data';\n",
              "          await google.colab.output.renderOutput(dataTable, element);\n",
              "          const docLink = document.createElement('div');\n",
              "          docLink.innerHTML = docLinkHtml;\n",
              "          element.appendChild(docLink);\n",
              "        }\n",
              "      </script>\n",
              "    </div>\n",
              "  </div>\n",
              "  "
            ]
          },
          "metadata": {},
          "execution_count": 4
        }
      ]
    },
    {
      "cell_type": "code",
      "source": [
        "results['error'] = results.y_true - results.y_pred\n",
        "results.head()"
      ],
      "metadata": {
        "colab": {
          "base_uri": "https://localhost:8080/",
          "height": 206
        },
        "id": "eZYgFVMbYLxf",
        "outputId": "812bbc7e-ddca-4275-af9f-80367a1d7929"
      },
      "execution_count": 5,
      "outputs": [
        {
          "output_type": "execute_result",
          "data": {
            "text/plain": [
              "       y_true      y_pred     error\n",
              "0  111.832803  115.407202 -3.574399\n",
              "1  123.425757  120.103502  3.322255\n",
              "2  100.463048  108.136092 -7.673044\n",
              "3  127.475276  118.392341  9.082935\n",
              "4  111.048494  118.484428 -7.435934"
            ],
            "text/html": [
              "\n",
              "  <div id=\"df-93e7f391-84e4-437d-a7d4-908b7381b226\">\n",
              "    <div class=\"colab-df-container\">\n",
              "      <div>\n",
              "<style scoped>\n",
              "    .dataframe tbody tr th:only-of-type {\n",
              "        vertical-align: middle;\n",
              "    }\n",
              "\n",
              "    .dataframe tbody tr th {\n",
              "        vertical-align: top;\n",
              "    }\n",
              "\n",
              "    .dataframe thead th {\n",
              "        text-align: right;\n",
              "    }\n",
              "</style>\n",
              "<table border=\"1\" class=\"dataframe\">\n",
              "  <thead>\n",
              "    <tr style=\"text-align: right;\">\n",
              "      <th></th>\n",
              "      <th>y_true</th>\n",
              "      <th>y_pred</th>\n",
              "      <th>error</th>\n",
              "    </tr>\n",
              "  </thead>\n",
              "  <tbody>\n",
              "    <tr>\n",
              "      <th>0</th>\n",
              "      <td>111.832803</td>\n",
              "      <td>115.407202</td>\n",
              "      <td>-3.574399</td>\n",
              "    </tr>\n",
              "    <tr>\n",
              "      <th>1</th>\n",
              "      <td>123.425757</td>\n",
              "      <td>120.103502</td>\n",
              "      <td>3.322255</td>\n",
              "    </tr>\n",
              "    <tr>\n",
              "      <th>2</th>\n",
              "      <td>100.463048</td>\n",
              "      <td>108.136092</td>\n",
              "      <td>-7.673044</td>\n",
              "    </tr>\n",
              "    <tr>\n",
              "      <th>3</th>\n",
              "      <td>127.475276</td>\n",
              "      <td>118.392341</td>\n",
              "      <td>9.082935</td>\n",
              "    </tr>\n",
              "    <tr>\n",
              "      <th>4</th>\n",
              "      <td>111.048494</td>\n",
              "      <td>118.484428</td>\n",
              "      <td>-7.435934</td>\n",
              "    </tr>\n",
              "  </tbody>\n",
              "</table>\n",
              "</div>\n",
              "      <button class=\"colab-df-convert\" onclick=\"convertToInteractive('df-93e7f391-84e4-437d-a7d4-908b7381b226')\"\n",
              "              title=\"Convert this dataframe to an interactive table.\"\n",
              "              style=\"display:none;\">\n",
              "        \n",
              "  <svg xmlns=\"http://www.w3.org/2000/svg\" height=\"24px\"viewBox=\"0 0 24 24\"\n",
              "       width=\"24px\">\n",
              "    <path d=\"M0 0h24v24H0V0z\" fill=\"none\"/>\n",
              "    <path d=\"M18.56 5.44l.94 2.06.94-2.06 2.06-.94-2.06-.94-.94-2.06-.94 2.06-2.06.94zm-11 1L8.5 8.5l.94-2.06 2.06-.94-2.06-.94L8.5 2.5l-.94 2.06-2.06.94zm10 10l.94 2.06.94-2.06 2.06-.94-2.06-.94-.94-2.06-.94 2.06-2.06.94z\"/><path d=\"M17.41 7.96l-1.37-1.37c-.4-.4-.92-.59-1.43-.59-.52 0-1.04.2-1.43.59L10.3 9.45l-7.72 7.72c-.78.78-.78 2.05 0 2.83L4 21.41c.39.39.9.59 1.41.59.51 0 1.02-.2 1.41-.59l7.78-7.78 2.81-2.81c.8-.78.8-2.07 0-2.86zM5.41 20L4 18.59l7.72-7.72 1.47 1.35L5.41 20z\"/>\n",
              "  </svg>\n",
              "      </button>\n",
              "      \n",
              "  <style>\n",
              "    .colab-df-container {\n",
              "      display:flex;\n",
              "      flex-wrap:wrap;\n",
              "      gap: 12px;\n",
              "    }\n",
              "\n",
              "    .colab-df-convert {\n",
              "      background-color: #E8F0FE;\n",
              "      border: none;\n",
              "      border-radius: 50%;\n",
              "      cursor: pointer;\n",
              "      display: none;\n",
              "      fill: #1967D2;\n",
              "      height: 32px;\n",
              "      padding: 0 0 0 0;\n",
              "      width: 32px;\n",
              "    }\n",
              "\n",
              "    .colab-df-convert:hover {\n",
              "      background-color: #E2EBFA;\n",
              "      box-shadow: 0px 1px 2px rgba(60, 64, 67, 0.3), 0px 1px 3px 1px rgba(60, 64, 67, 0.15);\n",
              "      fill: #174EA6;\n",
              "    }\n",
              "\n",
              "    [theme=dark] .colab-df-convert {\n",
              "      background-color: #3B4455;\n",
              "      fill: #D2E3FC;\n",
              "    }\n",
              "\n",
              "    [theme=dark] .colab-df-convert:hover {\n",
              "      background-color: #434B5C;\n",
              "      box-shadow: 0px 1px 3px 1px rgba(0, 0, 0, 0.15);\n",
              "      filter: drop-shadow(0px 1px 2px rgba(0, 0, 0, 0.3));\n",
              "      fill: #FFFFFF;\n",
              "    }\n",
              "  </style>\n",
              "\n",
              "      <script>\n",
              "        const buttonEl =\n",
              "          document.querySelector('#df-93e7f391-84e4-437d-a7d4-908b7381b226 button.colab-df-convert');\n",
              "        buttonEl.style.display =\n",
              "          google.colab.kernel.accessAllowed ? 'block' : 'none';\n",
              "\n",
              "        async function convertToInteractive(key) {\n",
              "          const element = document.querySelector('#df-93e7f391-84e4-437d-a7d4-908b7381b226');\n",
              "          const dataTable =\n",
              "            await google.colab.kernel.invokeFunction('convertToInteractive',\n",
              "                                                     [key], {});\n",
              "          if (!dataTable) return;\n",
              "\n",
              "          const docLinkHtml = 'Like what you see? Visit the ' +\n",
              "            '<a target=\"_blank\" href=https://colab.research.google.com/notebooks/data_table.ipynb>data table notebook</a>'\n",
              "            + ' to learn more about interactive tables.';\n",
              "          element.innerHTML = '';\n",
              "          dataTable['output_type'] = 'display_data';\n",
              "          await google.colab.output.renderOutput(dataTable, element);\n",
              "          const docLink = document.createElement('div');\n",
              "          docLink.innerHTML = docLinkHtml;\n",
              "          element.appendChild(docLink);\n",
              "        }\n",
              "      </script>\n",
              "    </div>\n",
              "  </div>\n",
              "  "
            ]
          },
          "metadata": {},
          "execution_count": 5
        }
      ]
    },
    {
      "cell_type": "markdown",
      "source": [
        "#Interpretacja graficzna"
      ],
      "metadata": {
        "id": "peic1S1iYeux"
      }
    },
    {
      "cell_type": "code",
      "source": [
        "def plot_regression_results(y_true, y_pred): \n",
        "    results = pd.DataFrame({'y_true': y_true, 'y_pred': y_pred})\n",
        "    min = results[['y_true', 'y_pred']].min().min()\n",
        "    max = results[['y_true', 'y_pred']].max().max()\n",
        "\n",
        "    fig = go.Figure(data=[go.Scatter(x=results['y_true'], y=results['y_pred'], mode='markers'),\n",
        "                    go.Scatter(x=[min, max], y=[min, max])],\n",
        "                    layout=go.Layout(showlegend=False, width=800, height=500,\n",
        "                                     xaxis_title='y_true', \n",
        "                                     yaxis_title='y_pred',\n",
        "                                     title='Regression results'))\n",
        "    fig.show()\n",
        "plot_regression_results(y_true, y_pred)"
      ],
      "metadata": {
        "colab": {
          "base_uri": "https://localhost:8080/",
          "height": 517
        },
        "id": "6CRs7kPhYY_s",
        "outputId": "e4b06942-a5e9-44de-b443-ff75b0b316a4"
      },
      "execution_count": 6,
      "outputs": [
        {
          "output_type": "display_data",
          "data": {
            "text/html": [
              "<html>\n",
              "<head><meta charset=\"utf-8\" /></head>\n",
              "<body>\n",
              "    <div>            <script src=\"https://cdnjs.cloudflare.com/ajax/libs/mathjax/2.7.5/MathJax.js?config=TeX-AMS-MML_SVG\"></script><script type=\"text/javascript\">if (window.MathJax) {MathJax.Hub.Config({SVG: {font: \"STIX-Web\"}});}</script>                <script type=\"text/javascript\">window.PlotlyConfig = {MathJaxConfig: 'local'};</script>\n",
              "        <script src=\"https://cdn.plot.ly/plotly-2.8.3.min.js\"></script>                <div id=\"e0e1a9f0-0dfa-41bc-8af5-d9114248d86c\" class=\"plotly-graph-div\" style=\"height:500px; width:800px;\"></div>            <script type=\"text/javascript\">                                    window.PLOTLYENV=window.PLOTLYENV || {};                                    if (document.getElementById(\"e0e1a9f0-0dfa-41bc-8af5-d9114248d86c\")) {                    Plotly.newPlot(                        \"e0e1a9f0-0dfa-41bc-8af5-d9114248d86c\",                        [{\"mode\":\"markers\",\"x\":[111.83280343083703,123.42575714702927,100.46304804493226,127.47527605828985,111.0484942915039,116.28794316536946,112.43217283803607,76.96068267793667,125.50302362787464,107.55446147780879,107.87181292366404,124.51690574637988,122.06332836833258,83.64105932388905,87.59472555786061,109.70589971558323,107.11910260015102,85.44680357498856,99.59194940284966,85.81015787010534,116.28328977855878,92.57661164135278,104.60276595387589,100.1203358285642,122.82965893327166,101.77132979945296,87.46788573220954,106.13904008621223,95.74143757769443,82.98220250302195,79.2842916680872,98.36583978817836,120.0288208270132,54.32000433762609,121.04049509210202,101.84895446371635,119.07207268671402,107.89867042134092,113.17114756495918,71.19428769524227,68.31799492730183,105.12902662372835,106.27144287374786,64.69127143610373,97.42157183152847,100.31626559567982,113.17227066724189,73.87127429788103,110.42372648184082,105.43047198556988],\"y\":[115.40720216830415,120.10350207653171,108.13609219390491,118.39234081163953,118.48442845059243,132.74469491627025,111.05885838527384,70.74534565813227,131.74961190996027,126.86579301516639,88.04273752191898,137.33050483496882,107.19984284727141,83.10838360690869,88.02335413723289,126.1972057909987,125.28251594008785,91.99705019525594,97.76056292454011,81.73747625733779,126.64408138401888,67.37808195865554,92.98727674540302,72.24862910104201,106.28346421744274,107.4917261917544,95.18244251760116,104.64048378268018,84.09038341042164,81.81771039406131,70.22741719504675,100.44155281986201,121.9068166013965,67.26775737312143,121.49404467715958,110.94473509632044,124.46708033263255,112.23419147846968,110.43970933216045,69.35389610253846,81.2493935515121,92.72795411350225,112.91005928541531,65.3683839237695,91.5884411940051,93.28377172412998,118.43119183718579,84.2518428734779,108.85093080318217,99.89002839468486],\"type\":\"scatter\"},{\"x\":[54.32000433762609,137.33050483496882],\"y\":[54.32000433762609,137.33050483496882],\"type\":\"scatter\"}],                        {\"height\":500,\"showlegend\":false,\"title\":{\"text\":\"Regression results\"},\"width\":800,\"xaxis\":{\"title\":{\"text\":\"y_true\"}},\"yaxis\":{\"title\":{\"text\":\"y_pred\"}},\"template\":{\"data\":{\"bar\":[{\"error_x\":{\"color\":\"#2a3f5f\"},\"error_y\":{\"color\":\"#2a3f5f\"},\"marker\":{\"line\":{\"color\":\"#E5ECF6\",\"width\":0.5},\"pattern\":{\"fillmode\":\"overlay\",\"size\":10,\"solidity\":0.2}},\"type\":\"bar\"}],\"barpolar\":[{\"marker\":{\"line\":{\"color\":\"#E5ECF6\",\"width\":0.5},\"pattern\":{\"fillmode\":\"overlay\",\"size\":10,\"solidity\":0.2}},\"type\":\"barpolar\"}],\"carpet\":[{\"aaxis\":{\"endlinecolor\":\"#2a3f5f\",\"gridcolor\":\"white\",\"linecolor\":\"white\",\"minorgridcolor\":\"white\",\"startlinecolor\":\"#2a3f5f\"},\"baxis\":{\"endlinecolor\":\"#2a3f5f\",\"gridcolor\":\"white\",\"linecolor\":\"white\",\"minorgridcolor\":\"white\",\"startlinecolor\":\"#2a3f5f\"},\"type\":\"carpet\"}],\"choropleth\":[{\"colorbar\":{\"outlinewidth\":0,\"ticks\":\"\"},\"type\":\"choropleth\"}],\"contour\":[{\"colorbar\":{\"outlinewidth\":0,\"ticks\":\"\"},\"colorscale\":[[0.0,\"#0d0887\"],[0.1111111111111111,\"#46039f\"],[0.2222222222222222,\"#7201a8\"],[0.3333333333333333,\"#9c179e\"],[0.4444444444444444,\"#bd3786\"],[0.5555555555555556,\"#d8576b\"],[0.6666666666666666,\"#ed7953\"],[0.7777777777777778,\"#fb9f3a\"],[0.8888888888888888,\"#fdca26\"],[1.0,\"#f0f921\"]],\"type\":\"contour\"}],\"contourcarpet\":[{\"colorbar\":{\"outlinewidth\":0,\"ticks\":\"\"},\"type\":\"contourcarpet\"}],\"heatmap\":[{\"colorbar\":{\"outlinewidth\":0,\"ticks\":\"\"},\"colorscale\":[[0.0,\"#0d0887\"],[0.1111111111111111,\"#46039f\"],[0.2222222222222222,\"#7201a8\"],[0.3333333333333333,\"#9c179e\"],[0.4444444444444444,\"#bd3786\"],[0.5555555555555556,\"#d8576b\"],[0.6666666666666666,\"#ed7953\"],[0.7777777777777778,\"#fb9f3a\"],[0.8888888888888888,\"#fdca26\"],[1.0,\"#f0f921\"]],\"type\":\"heatmap\"}],\"heatmapgl\":[{\"colorbar\":{\"outlinewidth\":0,\"ticks\":\"\"},\"colorscale\":[[0.0,\"#0d0887\"],[0.1111111111111111,\"#46039f\"],[0.2222222222222222,\"#7201a8\"],[0.3333333333333333,\"#9c179e\"],[0.4444444444444444,\"#bd3786\"],[0.5555555555555556,\"#d8576b\"],[0.6666666666666666,\"#ed7953\"],[0.7777777777777778,\"#fb9f3a\"],[0.8888888888888888,\"#fdca26\"],[1.0,\"#f0f921\"]],\"type\":\"heatmapgl\"}],\"histogram\":[{\"marker\":{\"pattern\":{\"fillmode\":\"overlay\",\"size\":10,\"solidity\":0.2}},\"type\":\"histogram\"}],\"histogram2d\":[{\"colorbar\":{\"outlinewidth\":0,\"ticks\":\"\"},\"colorscale\":[[0.0,\"#0d0887\"],[0.1111111111111111,\"#46039f\"],[0.2222222222222222,\"#7201a8\"],[0.3333333333333333,\"#9c179e\"],[0.4444444444444444,\"#bd3786\"],[0.5555555555555556,\"#d8576b\"],[0.6666666666666666,\"#ed7953\"],[0.7777777777777778,\"#fb9f3a\"],[0.8888888888888888,\"#fdca26\"],[1.0,\"#f0f921\"]],\"type\":\"histogram2d\"}],\"histogram2dcontour\":[{\"colorbar\":{\"outlinewidth\":0,\"ticks\":\"\"},\"colorscale\":[[0.0,\"#0d0887\"],[0.1111111111111111,\"#46039f\"],[0.2222222222222222,\"#7201a8\"],[0.3333333333333333,\"#9c179e\"],[0.4444444444444444,\"#bd3786\"],[0.5555555555555556,\"#d8576b\"],[0.6666666666666666,\"#ed7953\"],[0.7777777777777778,\"#fb9f3a\"],[0.8888888888888888,\"#fdca26\"],[1.0,\"#f0f921\"]],\"type\":\"histogram2dcontour\"}],\"mesh3d\":[{\"colorbar\":{\"outlinewidth\":0,\"ticks\":\"\"},\"type\":\"mesh3d\"}],\"parcoords\":[{\"line\":{\"colorbar\":{\"outlinewidth\":0,\"ticks\":\"\"}},\"type\":\"parcoords\"}],\"pie\":[{\"automargin\":true,\"type\":\"pie\"}],\"scatter\":[{\"marker\":{\"colorbar\":{\"outlinewidth\":0,\"ticks\":\"\"}},\"type\":\"scatter\"}],\"scatter3d\":[{\"line\":{\"colorbar\":{\"outlinewidth\":0,\"ticks\":\"\"}},\"marker\":{\"colorbar\":{\"outlinewidth\":0,\"ticks\":\"\"}},\"type\":\"scatter3d\"}],\"scattercarpet\":[{\"marker\":{\"colorbar\":{\"outlinewidth\":0,\"ticks\":\"\"}},\"type\":\"scattercarpet\"}],\"scattergeo\":[{\"marker\":{\"colorbar\":{\"outlinewidth\":0,\"ticks\":\"\"}},\"type\":\"scattergeo\"}],\"scattergl\":[{\"marker\":{\"colorbar\":{\"outlinewidth\":0,\"ticks\":\"\"}},\"type\":\"scattergl\"}],\"scattermapbox\":[{\"marker\":{\"colorbar\":{\"outlinewidth\":0,\"ticks\":\"\"}},\"type\":\"scattermapbox\"}],\"scatterpolar\":[{\"marker\":{\"colorbar\":{\"outlinewidth\":0,\"ticks\":\"\"}},\"type\":\"scatterpolar\"}],\"scatterpolargl\":[{\"marker\":{\"colorbar\":{\"outlinewidth\":0,\"ticks\":\"\"}},\"type\":\"scatterpolargl\"}],\"scatterternary\":[{\"marker\":{\"colorbar\":{\"outlinewidth\":0,\"ticks\":\"\"}},\"type\":\"scatterternary\"}],\"surface\":[{\"colorbar\":{\"outlinewidth\":0,\"ticks\":\"\"},\"colorscale\":[[0.0,\"#0d0887\"],[0.1111111111111111,\"#46039f\"],[0.2222222222222222,\"#7201a8\"],[0.3333333333333333,\"#9c179e\"],[0.4444444444444444,\"#bd3786\"],[0.5555555555555556,\"#d8576b\"],[0.6666666666666666,\"#ed7953\"],[0.7777777777777778,\"#fb9f3a\"],[0.8888888888888888,\"#fdca26\"],[1.0,\"#f0f921\"]],\"type\":\"surface\"}],\"table\":[{\"cells\":{\"fill\":{\"color\":\"#EBF0F8\"},\"line\":{\"color\":\"white\"}},\"header\":{\"fill\":{\"color\":\"#C8D4E3\"},\"line\":{\"color\":\"white\"}},\"type\":\"table\"}]},\"layout\":{\"annotationdefaults\":{\"arrowcolor\":\"#2a3f5f\",\"arrowhead\":0,\"arrowwidth\":1},\"autotypenumbers\":\"strict\",\"coloraxis\":{\"colorbar\":{\"outlinewidth\":0,\"ticks\":\"\"}},\"colorscale\":{\"diverging\":[[0,\"#8e0152\"],[0.1,\"#c51b7d\"],[0.2,\"#de77ae\"],[0.3,\"#f1b6da\"],[0.4,\"#fde0ef\"],[0.5,\"#f7f7f7\"],[0.6,\"#e6f5d0\"],[0.7,\"#b8e186\"],[0.8,\"#7fbc41\"],[0.9,\"#4d9221\"],[1,\"#276419\"]],\"sequential\":[[0.0,\"#0d0887\"],[0.1111111111111111,\"#46039f\"],[0.2222222222222222,\"#7201a8\"],[0.3333333333333333,\"#9c179e\"],[0.4444444444444444,\"#bd3786\"],[0.5555555555555556,\"#d8576b\"],[0.6666666666666666,\"#ed7953\"],[0.7777777777777778,\"#fb9f3a\"],[0.8888888888888888,\"#fdca26\"],[1.0,\"#f0f921\"]],\"sequentialminus\":[[0.0,\"#0d0887\"],[0.1111111111111111,\"#46039f\"],[0.2222222222222222,\"#7201a8\"],[0.3333333333333333,\"#9c179e\"],[0.4444444444444444,\"#bd3786\"],[0.5555555555555556,\"#d8576b\"],[0.6666666666666666,\"#ed7953\"],[0.7777777777777778,\"#fb9f3a\"],[0.8888888888888888,\"#fdca26\"],[1.0,\"#f0f921\"]]},\"colorway\":[\"#636efa\",\"#EF553B\",\"#00cc96\",\"#ab63fa\",\"#FFA15A\",\"#19d3f3\",\"#FF6692\",\"#B6E880\",\"#FF97FF\",\"#FECB52\"],\"font\":{\"color\":\"#2a3f5f\"},\"geo\":{\"bgcolor\":\"white\",\"lakecolor\":\"white\",\"landcolor\":\"#E5ECF6\",\"showlakes\":true,\"showland\":true,\"subunitcolor\":\"white\"},\"hoverlabel\":{\"align\":\"left\"},\"hovermode\":\"closest\",\"mapbox\":{\"style\":\"light\"},\"paper_bgcolor\":\"white\",\"plot_bgcolor\":\"#E5ECF6\",\"polar\":{\"angularaxis\":{\"gridcolor\":\"white\",\"linecolor\":\"white\",\"ticks\":\"\"},\"bgcolor\":\"#E5ECF6\",\"radialaxis\":{\"gridcolor\":\"white\",\"linecolor\":\"white\",\"ticks\":\"\"}},\"scene\":{\"xaxis\":{\"backgroundcolor\":\"#E5ECF6\",\"gridcolor\":\"white\",\"gridwidth\":2,\"linecolor\":\"white\",\"showbackground\":true,\"ticks\":\"\",\"zerolinecolor\":\"white\"},\"yaxis\":{\"backgroundcolor\":\"#E5ECF6\",\"gridcolor\":\"white\",\"gridwidth\":2,\"linecolor\":\"white\",\"showbackground\":true,\"ticks\":\"\",\"zerolinecolor\":\"white\"},\"zaxis\":{\"backgroundcolor\":\"#E5ECF6\",\"gridcolor\":\"white\",\"gridwidth\":2,\"linecolor\":\"white\",\"showbackground\":true,\"ticks\":\"\",\"zerolinecolor\":\"white\"}},\"shapedefaults\":{\"line\":{\"color\":\"#2a3f5f\"}},\"ternary\":{\"aaxis\":{\"gridcolor\":\"white\",\"linecolor\":\"white\",\"ticks\":\"\"},\"baxis\":{\"gridcolor\":\"white\",\"linecolor\":\"white\",\"ticks\":\"\"},\"bgcolor\":\"#E5ECF6\",\"caxis\":{\"gridcolor\":\"white\",\"linecolor\":\"white\",\"ticks\":\"\"}},\"title\":{\"x\":0.05},\"xaxis\":{\"automargin\":true,\"gridcolor\":\"white\",\"linecolor\":\"white\",\"ticks\":\"\",\"title\":{\"standoff\":15},\"zerolinecolor\":\"white\",\"zerolinewidth\":2},\"yaxis\":{\"automargin\":true,\"gridcolor\":\"white\",\"linecolor\":\"white\",\"ticks\":\"\",\"title\":{\"standoff\":15},\"zerolinecolor\":\"white\",\"zerolinewidth\":2}}}},                        {\"responsive\": true}                    ).then(function(){\n",
              "                            \n",
              "var gd = document.getElementById('e0e1a9f0-0dfa-41bc-8af5-d9114248d86c');\n",
              "var x = new MutationObserver(function (mutations, observer) {{\n",
              "        var display = window.getComputedStyle(gd).display;\n",
              "        if (!display || display === 'none') {{\n",
              "            console.log([gd, 'removed!']);\n",
              "            Plotly.purge(gd);\n",
              "            observer.disconnect();\n",
              "        }}\n",
              "}});\n",
              "\n",
              "// Listen for the removal of the full notebook cells\n",
              "var notebookContainer = gd.closest('#notebook-container');\n",
              "if (notebookContainer) {{\n",
              "    x.observe(notebookContainer, {childList: true});\n",
              "}}\n",
              "\n",
              "// Listen for the clearing of the current output cell\n",
              "var outputEl = gd.closest('.output');\n",
              "if (outputEl) {{\n",
              "    x.observe(outputEl, {childList: true});\n",
              "}}\n",
              "\n",
              "                        })                };                            </script>        </div>\n",
              "</body>\n",
              "</html>"
            ]
          },
          "metadata": {}
        }
      ]
    },
    {
      "cell_type": "code",
      "source": [
        "y_true = 100 + 20 * np.random.randn(1000)\n",
        "y_pred = y_true + 10 * np.random.randn(1000)\n",
        "results = pd.DataFrame({'y_true': y_true, 'y_pred': y_pred})\n",
        "results['error'] = results['y_true'] - results['y_pred']\n",
        "\n",
        "px.histogram(results, x='error', nbins=50, width=800)\n",
        "# Wykres powinien przypominac rozkład normalny.\n",
        "# Błędy powinny być skupione wokół 0\n",
        "# Nie powinien też być zbyt idealny"
      ],
      "metadata": {
        "colab": {
          "base_uri": "https://localhost:8080/",
          "height": 542
        },
        "id": "l8FnmZe-YpMJ",
        "outputId": "75796733-de94-4ffa-c320-5bb729990d68"
      },
      "execution_count": 9,
      "outputs": [
        {
          "output_type": "display_data",
          "data": {
            "text/html": [
              "<html>\n",
              "<head><meta charset=\"utf-8\" /></head>\n",
              "<body>\n",
              "    <div>            <script src=\"https://cdnjs.cloudflare.com/ajax/libs/mathjax/2.7.5/MathJax.js?config=TeX-AMS-MML_SVG\"></script><script type=\"text/javascript\">if (window.MathJax) {MathJax.Hub.Config({SVG: {font: \"STIX-Web\"}});}</script>                <script type=\"text/javascript\">window.PlotlyConfig = {MathJaxConfig: 'local'};</script>\n",
              "        <script src=\"https://cdn.plot.ly/plotly-2.8.3.min.js\"></script>                <div id=\"02a1365c-84f7-42cf-9ebd-e7a8f5fee9ab\" class=\"plotly-graph-div\" style=\"height:525px; width:800px;\"></div>            <script type=\"text/javascript\">                                    window.PLOTLYENV=window.PLOTLYENV || {};                                    if (document.getElementById(\"02a1365c-84f7-42cf-9ebd-e7a8f5fee9ab\")) {                    Plotly.newPlot(                        \"02a1365c-84f7-42cf-9ebd-e7a8f5fee9ab\",                        [{\"alignmentgroup\":\"True\",\"bingroup\":\"x\",\"hovertemplate\":\"error=%{x}<br>count=%{y}<extra></extra>\",\"legendgroup\":\"\",\"marker\":{\"color\":\"#636efa\",\"pattern\":{\"shape\":\"\"}},\"name\":\"\",\"nbinsx\":50,\"offsetgroup\":\"\",\"orientation\":\"v\",\"showlegend\":false,\"x\":[18.954535614660955,3.6382067254938164,-10.83777651101559,-4.482607129089729,-8.407307342687858,1.2961654732059174,-11.85066541660619,4.391373668305675,9.145449394976566,0.43116144808716683,5.94386901295254,4.130118230074743,4.756686315333013,-3.802302757262538,7.901137498707115,-12.985958048106681,4.24077323208374,-3.568635966118805,-2.088057393259561,-6.42439792252361,1.020650227810279,15.350832849255042,-8.413652887822622,5.00821883883313,3.008338000026683,-9.492244398509612,-3.44188054626494,18.165613915744316,8.461391216727137,-8.910380660045249,1.6477430455074114,-3.15738625351203,-1.5610638790475804,-5.912352681500025,4.23691026095284,10.496255849883553,-5.607143130577839,7.817689698838876,5.71945290918282,-1.5985468109575152,3.9429997180898084,7.940054709176437,7.4388976579914186,17.412260491360257,-16.816426412308942,-7.29480110772073,9.068857843073218,-11.781699796207533,16.14799083658788,-0.4985027915840021,8.139669499448672,5.241551280186144,-12.870909464496648,23.134164256878947,6.501142267687925,-0.0226876974225263,-2.6148694098408214,-10.767208641707455,-10.59986029329302,4.776818951050558,-18.347403303615152,7.303424392050857,17.331864654197375,16.734664181922525,-3.264063021952694,-9.553260714520732,2.5447394984897613,-6.708938722877392,4.897848630911582,1.6756499958607805,-11.617641383876304,-1.1976895451299185,20.844052596604257,8.855409425224991,-1.1834061528753637,-18.075582580718688,4.716896357293578,-0.29741935371606587,2.589881064907317,-20.093666746336197,9.849319303479973,6.109070947327311,4.65351497891163,-0.8060618228530387,8.583168521184461,-11.63085714939092,-10.326142107072215,1.7677962967832173,5.4840957908325265,-16.649827450517563,13.447285500296815,12.787748231195124,3.1209431998679094,-6.415893392871766,14.25504419832717,-2.922404696779793,-17.239974670788072,-15.726814913696458,18.986697009060933,-13.898368034704177,-8.226711858151148,12.867395641801565,5.037872563010993,2.574604246910397,11.377863490350038,-5.248545696870579,-1.248152452124799,3.7776683780988805,-11.38292908889727,-28.475859019794626,4.150926861413524,1.4474526580221152,-8.628701368039415,-1.4866405508944212,-4.128829551490213,14.112370538912174,11.747445010985473,2.5323570314882744,-9.04747708180166,-4.677049399002243,3.1123857347832455,-1.58111182552922,-0.9697863968784617,15.624011231483465,-7.879467667280807,3.147706088648434,-8.311044444929692,-19.56489782364224,-3.6886890135980934,8.23285688636291,-7.995570628390723,-4.143479590351745,10.671539915675453,-22.920343712214105,6.569016820363771,-19.262582166871525,-6.104781768648635,8.045858309121158,7.44303846979949,-10.136280347106094,-18.185702002415113,11.326754009347894,15.722617134164153,14.574407880112815,1.4486141554565677,-8.412683474079614,-6.187423635567285,-6.843176318054191,7.416927399662413,12.103039599252654,-12.831304353772367,-6.435276351089797,-5.936432903916341,-17.41586125401645,14.745111192960763,-0.48016041007061006,-3.672538211645332,2.1865653151697586,0.5940121232731741,-8.133707075771653,-12.329010574442066,3.112713688104421,10.651261980209256,-1.0170560751491138,1.4203270718418253,5.132285636776061,5.786415977742422,1.638637553508147,-7.000361248088424,-9.659513249245279,17.994522635622843,1.6604871199484847,7.205195995069332,3.4449580795800756,9.94711531139886,0.4303112699509626,-20.18380311636615,-5.662974923028159,-3.9784789062054244,3.1271259369853084,12.39221122823865,-3.94345736989591,-6.606859227998868,-1.4263857532695141,21.807522433101866,12.845400307126027,-5.819494054729631,1.1281738450957306,12.135511536525158,10.137527236232145,-3.371163743416929,15.285023662769419,14.125028091802918,2.085255511845446,9.057478665582536,18.688409367558307,8.31026029378151,-2.1657917999230563,7.446856281819052,2.5653337221659314,-15.615740972663588,15.34144457815259,7.121791771019048,10.33961770484649,-4.0878199106327315,-2.6738711430540008,-8.779869475748725,11.575429427450857,-3.1100888306654753,12.565892485342602,10.57603546019044,-2.7940027382860393,-4.3728083645154925,-6.512654393315202,-4.672037345444309,0.4137299407278334,-8.847963896987764,1.7277177753488928,8.99652494959436,7.284573723293889,-9.914518027673807,-1.3376836163121908,7.955303477311901,-19.899139328314405,8.834048697819625,18.833356122589677,-7.8363635748260805,-0.42908933379004566,4.108938873515115,7.564239539991078,-12.910003475088047,15.38201528109856,5.377521598172208,0.9239015196490925,-6.1992936306802875,7.4617277761905,12.783357695885854,11.129049023185956,15.534785906559975,-9.146239055503088,15.120003746486802,-25.715451355325285,-6.217683193747106,-19.880395624563874,-4.766063781776353,-16.250221688247493,14.949978448824112,1.8560855921751056,8.445516136334206,0.6860173829713005,0.12337563658827833,5.429490672661501,16.422231032292075,-8.587909532868636,-3.8775266082543425,11.241631163307787,-6.698366125812754,-18.215524634379307,8.794050474323598,-9.458398106455348,-10.636962876321192,-11.88416579763016,2.1682286086895033,-0.41434167542472267,6.929019541848405,8.897799264905416,10.035966016607034,3.784241240466372,-13.771181114094759,14.390214257620627,-4.95453929376319,-8.420329854161437,-0.1720958358152842,25.159340949942404,-10.179694019951171,8.117085559245126,-20.739769310390912,-14.851728503350827,3.9164039763747667,4.683115980696073,-2.2096726770295305,-5.380530948013714,-9.338530112923223,8.25392338245436,-0.023607908871596806,-0.7632110751208927,-7.026709821692762,1.6349738004544463,-4.561268923484832,-1.581821982386117,14.515811223974822,-7.468557136672501,-11.111034688866738,-4.290309601496801,7.080480514293598,5.184661106541782,-15.57551076010391,8.433562682320414,-8.193637748369952,-1.5879295063925127,-16.77065375679112,-11.446113756493332,-19.529913518803966,-7.644434334316173,8.940427503552755,8.907386706085816,-3.9944643173025725,-7.498428799463568,-9.245007972145018,23.210030326837234,-7.987309197103869,-3.4612923990377453,-2.81535201924099,7.679859186710829,6.058491559812623,-6.036118807783396,19.0989261401608,6.913251714274253,-11.525194506746118,-1.7226065621932918,-2.407566326619431,-16.80280176186433,-7.039778808996871,1.8888575894687278,2.1865441487287,-18.115969138821228,1.7754791569027475,4.856668623843603,24.149058571401582,-9.48739479368733,9.312023220636306,2.494388298059988,3.5126094449692715,12.294196189060315,0.5512206920122935,-0.4923987158649936,6.34857715551928,5.861228863106902,13.541802901149623,4.2107843868238035,-3.936268439888096,-14.877328081331271,7.215350364609037,7.566866249977679,-19.886901987544775,3.2903527046915,-1.8074851438827437,2.263892675751066,-3.7437843421612484,-1.1876381851141957,1.829357708949857,4.18488997245619,-5.5967899595169115,3.7699337669415485,-11.924775772836675,13.024764247735604,10.950459224146314,1.5189560781443134,1.1232682398144647,1.5933395029833832,-17.31320679401955,-18.4700522374293,-17.534558152275437,8.284060860322427,5.381313852569903,16.797940912433248,4.022856874926106,6.392619819853266,8.454761460021004,-8.468849774788382,-16.933971468532064,-6.948128973462147,-6.1598504986063745,-9.745603043078177,-2.070971774392291,20.488058299665724,-12.415858012764858,-2.765823409852274,-9.972305026716612,10.032674029379734,10.07854448128127,-10.702941504266917,-4.466426905388303,3.3158239463440538,-16.564870525955328,1.2073194121055195,-1.6662573957934228,-10.234130572621837,-19.801652778111972,-13.461159081778916,-0.8121027332336439,-6.229238412457107,-8.629483327736367,-7.012318864914803,-8.536812521629429,-6.119798137941359,2.0661365295153615,-5.977092169609847,16.049273968054806,9.151770049322678,6.2135898460022645,11.303869170996506,-2.1091806866011638,-4.719925438421598,-7.698335725267896,-6.030148961816195,4.506626538739312,3.1667430894755455,14.184603633305628,13.49320285135343,10.179052071760935,-7.250452028892198,-1.9234903684727414,10.53791302433848,7.800455796269858,2.8431024533329605,11.856138380306277,-5.588667613335872,-11.436109400235381,11.2463203386244,-8.06225595770617,3.8143671946486677,10.577494952398524,-3.885462272997117,8.198077526450447,-4.193235499617558,1.2150544756823862,6.843912553910599,-20.542530550071206,0.6356982822898658,-3.725894750444823,-0.6231012771898037,-6.847254568051454,7.275070714338355,-6.953029204197406,-4.894645648067225,-2.5502988313038344,22.110980310185695,-2.377837781559819,9.499999161371534,12.256764458768401,-1.8188551056491207,5.31149103826651,0.7443872691215603,-0.9486261329291779,-2.690991004603518,-6.810818982605269,-3.7758828228829344,-12.797361048841196,8.319051641155042,3.058145691252392,31.794377180087835,-18.926007078516605,-6.564066579420313,-20.526234827771646,12.427025495213101,23.2237443877942,-12.758036285295361,-11.960594737430341,-17.390406208487974,-0.06207631676988967,4.322287393413532,-5.43150298927776,-8.293813160928707,-0.11656102240787902,-0.15067943163478503,5.326804864973241,8.56449461124032,7.216744611078553,-0.0369918141600607,-1.6826781181865158,-4.067686615033779,6.198148373258377,-24.5036170979634,2.3044001462497334,-9.434219924223711,-24.599864082605677,9.618999049408202,10.362625870249943,0.311263681480483,12.61669640793636,-4.5531768497861975,-6.2942541160036,7.008576082741087,2.3508927277324574,-2.842478470150155,-8.931334374190811,12.33819035190524,-13.570730264755753,-0.37455372560829403,0.7858716965968284,5.460889278412722,-5.820576122769694,14.32170975877824,6.7199119258369535,18.258964324214475,7.433876128436069,-15.436664825940568,9.7675295638888,9.46538746592799,-18.540658532111877,-4.668116154773685,-0.4906335571265146,-1.462717548468845,-8.122417907490174,12.306912063881583,5.672234509299798,9.828010611256559,-1.2313932962628513,6.315585747438817,-11.540865625239348,-23.12778035435737,14.787187699414346,-3.8327982183594997,0.01836252969175689,18.777851498549225,10.949895347359046,8.664591056894295,-0.35487953284626883,-5.985412052481351,-4.665510532195654,-1.326720184072201,-3.4608108944346014,14.776557859386124,4.12734293081887,5.582723366368953,24.150557441923482,5.87162525045953,-11.034446783416627,7.321520667634076,4.2552904721307385,-6.8947869552505665,-13.473707939858514,11.716050560368458,-3.9502485866263157,-0.4696158890073292,-0.04511203540685926,-1.864902205679229,-4.875403299110914,3.477352054658688,18.71299658744806,-11.021252726807944,18.33748148994674,-1.2588537740568881,-3.889974883478885,-8.125469886530809,0.23667605415776194,6.465050100643026,1.3195397212624727,8.062588534911626,3.373804061535594,9.702043537186412,11.938672904582376,-1.7647723373071358,-16.29109296507245,-2.3275133363615055,5.154636879525526,-5.966560455800874,-3.8342712872106546,10.535228295645993,1.650713824323418,1.8227093932939908,5.352334642642106,-0.5266601095995753,3.527894609074309,3.1905056107161442,1.50844399592836,-5.002128293657194,-2.1026867657166832,19.278011943002028,10.557357543300725,-11.528061442903677,-5.112302811431576,-1.7350533782869775,3.8788137830149765,18.55386542074568,-3.0234012374723562,-0.12311783888226557,-2.9496664444018137,-5.879906710839151,-4.597035228801545,-3.5378107142725526,-2.491369463330784,15.797332155351995,15.540479841305938,7.254758326313578,-6.313710944213611,1.4718602468689,-6.261055533014854,7.219017266353347,-6.331078513092734,-1.4249844591524123,6.704495407080543,4.240909026162598,5.981439412134776,11.985885735074248,-0.7876060211173126,2.569061431463126,0.551077079401395,1.9791302846314238,-6.7840472687762485,-0.23776361643892585,12.867154634099343,16.613418180921457,4.505880622247474,-13.415914513753876,-20.70567947784967,-22.67589377996073,-14.179042660883383,-0.7247179838209092,2.9375404945000128,-2.1315879826731816,-5.300945480120703,12.681698307333335,-9.389892473033584,-12.995492134785678,10.171036350820472,3.5064116191989,7.468750726828105,10.151494676043122,-9.262816064404689,23.563645502128168,-10.882044374980012,3.4289327098766194,7.367471445281879,1.6705812750961826,18.818114622081836,-6.212893263402236,-2.1631865402241885,7.675827120703218,9.97766618541759,-0.2292277160113514,7.388542194033434,7.241960062986195,8.284547751488759,-14.32862211359658,-2.4698039665028944,17.631037733461525,-0.8680673525178122,8.325752934668195,1.3228730760788068,-3.191244533366472,-4.371210938955883,-3.6407783672560754,-14.69348834917244,8.580413766607677,-7.180062523731635,-4.640359935035285,-2.2375775512851135,-5.345380317405883,4.847213677833011,-6.203261408196283,2.374432462241913,-11.587956152413966,-0.8780801481925238,-11.092501184123094,-2.0688701017674163,4.801947377786732,-20.29628875206801,11.848793775950696,13.775127290864702,14.859387559394136,-14.107478318764933,14.481234886577056,-7.4075750459709155,2.696962427691844,8.218045297847588,-6.159623459792954,-17.33728997128985,4.608285016369173,-10.91142551863281,0.23015539631552429,7.265652568846306,-7.237025239629858,0.7777568662327354,-5.757015867647269,10.197239076003214,4.192682275838166,-6.449739431017591,5.970354373122703,-6.226004792672896,12.4968611340515,-12.731894632264087,11.675626245612918,-0.17512213600687687,11.975404616550904,-6.801812697456398,1.026712985343437,-14.980535182838267,-8.231329321775021,-8.596728627455335,8.020442675784864,7.06380707762262,-1.9447478942210523,15.577304928894492,6.540531120262202,-2.5581294857796024,-0.8880821139664477,5.505943594562197,8.698457382138159,16.425653054637408,-28.712345309376374,0.41565333991317743,2.1248005987967105,8.784860170339556,-12.791108117659661,5.717293034632888,-7.217226254153729,-14.062754388999679,-27.89514788032315,10.779737565578571,7.4079515555686655,10.644272227861649,-14.440265563957112,-14.943386105148136,-13.549325377437256,6.808803515136631,-1.3570111820124424,-13.645533707141126,-8.861188293303542,14.22057518801816,5.938239250951426,9.643467308580583,-15.059306113537474,6.101323836105493,-0.8454442524836026,-16.32826455500293,-15.235181359102299,-18.749434382549396,-19.808746719348292,17.681518335629207,4.847526333881547,-0.8799790739091407,8.81203597202611,0.9005249121265848,15.762450561746306,-13.644181035899436,-6.34351057997398,4.853138526361548,-10.551081181995727,12.821896168034016,-12.299161756616101,-1.3630593978313499,-10.448675885298897,18.115993747356015,-13.918787655018093,-20.94638740319239,8.857994270705447,6.192789097352659,5.797929464703259,10.224776568591608,2.7493448776143197,5.5510647404388465,30.80948042872211,-5.93098174322175,0.11813775586543329,-8.19378075047723,-3.4129766247645676,21.6439999830817,6.396904071245956,12.462474995040822,3.7721742734105703,-2.3928785401332107,-4.86798964645611,0.015493135918106304,11.153816810480564,-6.289041350893427,-11.420877404122706,3.5404512115491684,-5.598675276896785,-3.0847418904173765,-2.065490458995953,-6.5798067883660565,6.782892594320828,-8.16274514918858,2.5868679952434235,8.974314518527251,12.975660936255466,7.345158563737115,-4.456749659621735,-15.501071348241112,0.019881615135759034,1.910403052661266,-4.930940910643287,4.970050737318836,15.64340278108034,10.785032235316265,-10.595415966451213,-14.454103625349802,-14.68091491604767,-6.723230688548043,-7.756098809899356,1.2549264159568025,4.168502196141731,2.2890600103144436,-7.27882897999217,-6.835821965342873,1.6304885181093027,-0.6927477327736966,-0.14099697494467023,4.171728512004222,22.690352527752225,4.894694111735916,-0.7728837138122628,14.795562463784705,8.40888450715076,1.6227218929151803,-12.21264658443468,-7.1378377818582806,-0.24457854969963932,0.27702043875381577,5.722355467686015,-15.387943000427,12.983200166079513,5.750750887138665,14.062149796688672,-3.579627576134399,-0.006657200581315692,-3.8766332515574646,3.422524485127724,-11.441449310241836,-8.763843964195019,2.389372362019472,5.636286074609444,-2.688644888842873,-11.218253094334173,-16.77956246466391,-4.211038733457713,6.367335381045564,4.2374612501584465,-3.0527792971568743,-13.618833432555732,-0.5328399779098731,-2.42073601376228,4.9598212340379035,-3.4354050629679733,17.20410823105135,-4.549317508475454,-19.075043629697774,-0.8185006328935174,-20.245994125394176,4.433118523037713,0.21304374152637706,-2.132246425754701,-7.795785102131603,-25.55186913417262,2.586157239854728,-6.862708968695557,-2.6872316756517165,-2.9694334686452777,9.061992681476937,-15.859457986583678,7.0638681344605345,22.473081374418747,-1.3601203314077708,-1.852358068000754,7.897889478951747,4.608134953799848,9.975718092268593,-5.051272306672175,-3.29392129275638,3.4819442584410893,-4.0847629442391735,10.259865115020006,1.9924225999967007,17.982969580003854,-1.767431137668595,13.39848722648145,2.2998959463296984,-12.648270937157932,-7.115011726228815,1.7107248433848383,-0.6537060417122689,-15.657254406443357,6.452708433566599,3.5724565952850895,3.059525421812097,9.442732065387759,3.001126839358001,9.142413483817862,4.75517914300417,-6.165567420975478,-4.246815782822168,3.9655779109408513,8.132204619289311,-8.5068598526463,3.4371773003273205,-9.504103636225665,-5.0691476289850925,4.623520497218053,-2.810033914166567,6.5938360500785365,2.504510983740971,-9.357780023290928,5.928622277883775,4.659485186249029,-3.713266859881273,-7.85974981448328,15.071799895219641,-17.926770315613894,1.3928431475793985,-7.049096306657248,8.082578894725785,11.790949856252595,8.075948057635962,-1.2537582332497266,0.8123270591048026,2.059894625776039,9.485858929570227,23.574248368143714,-2.3288349200668392,12.550497939972871,12.108575092023926,14.005822205667911,-4.971778907985993,-11.048739405030929,9.24042476869758,8.208245403972953,12.783709921416289,-9.208800396103015,0.1344735477319361,-0.2586713499189557,-4.874442978813349,-28.654394820651476,13.27044169309444,-4.888591067534946,22.132375030064864,-1.7309175070728031,10.039042871101003,6.524887418645704,-16.96889773599581,4.389445154730424,-1.1154569958770537,-0.5185801847588039,-4.82077271710358,7.005523820283557,-14.936432524731515,-6.02364093822473,6.3004453656616874,-3.7175533819977886,-9.938622117390679,15.539079152315765,-11.81034614318476,1.1596776968196991,19.249211119176863,-13.505640845230488,-4.072977513952367,-11.759825944438546,6.398119270547269,1.4610359362300045,4.886210403293603,-14.013855312502287,-7.322659259295293,-6.472770793596965,-3.8273662322661295,-14.309961459330538,16.12015045625595,-14.214833052935191,-7.398752393105241,1.2878244793995322,9.902417653074309,-7.664521599024184,-12.47935597835621,-9.781295924837565,-5.700719462293861,8.391828039877055,-6.846191673986468,8.386235318962179,16.80340375439549,11.638174462331705,-17.40461732478569,-16.640593931339325,-5.601835544526637,-1.2404194669371265,-2.7372237610587575,27.644193643180643,3.8608987679766926,-8.446056463758623,-0.7115071639314863,-17.700571595350553,16.22510797173942,-9.763069144957853,0.9523209947698632,-14.385337746644865,-15.074367537812861,-2.417292245642969,1.7844838240316818,-15.967404915679126,8.589131180312904,3.8932352973770747,-5.252732179970096,-5.6809650399411,7.968250099914002,7.716469314869727,2.271460759671413,17.9961323375789,-4.25753620497639,-4.73254292250725,-5.976591999903036,-4.351743894178526],\"xaxis\":\"x\",\"yaxis\":\"y\",\"type\":\"histogram\"}],                        {\"template\":{\"data\":{\"bar\":[{\"error_x\":{\"color\":\"#2a3f5f\"},\"error_y\":{\"color\":\"#2a3f5f\"},\"marker\":{\"line\":{\"color\":\"#E5ECF6\",\"width\":0.5},\"pattern\":{\"fillmode\":\"overlay\",\"size\":10,\"solidity\":0.2}},\"type\":\"bar\"}],\"barpolar\":[{\"marker\":{\"line\":{\"color\":\"#E5ECF6\",\"width\":0.5},\"pattern\":{\"fillmode\":\"overlay\",\"size\":10,\"solidity\":0.2}},\"type\":\"barpolar\"}],\"carpet\":[{\"aaxis\":{\"endlinecolor\":\"#2a3f5f\",\"gridcolor\":\"white\",\"linecolor\":\"white\",\"minorgridcolor\":\"white\",\"startlinecolor\":\"#2a3f5f\"},\"baxis\":{\"endlinecolor\":\"#2a3f5f\",\"gridcolor\":\"white\",\"linecolor\":\"white\",\"minorgridcolor\":\"white\",\"startlinecolor\":\"#2a3f5f\"},\"type\":\"carpet\"}],\"choropleth\":[{\"colorbar\":{\"outlinewidth\":0,\"ticks\":\"\"},\"type\":\"choropleth\"}],\"contour\":[{\"colorbar\":{\"outlinewidth\":0,\"ticks\":\"\"},\"colorscale\":[[0.0,\"#0d0887\"],[0.1111111111111111,\"#46039f\"],[0.2222222222222222,\"#7201a8\"],[0.3333333333333333,\"#9c179e\"],[0.4444444444444444,\"#bd3786\"],[0.5555555555555556,\"#d8576b\"],[0.6666666666666666,\"#ed7953\"],[0.7777777777777778,\"#fb9f3a\"],[0.8888888888888888,\"#fdca26\"],[1.0,\"#f0f921\"]],\"type\":\"contour\"}],\"contourcarpet\":[{\"colorbar\":{\"outlinewidth\":0,\"ticks\":\"\"},\"type\":\"contourcarpet\"}],\"heatmap\":[{\"colorbar\":{\"outlinewidth\":0,\"ticks\":\"\"},\"colorscale\":[[0.0,\"#0d0887\"],[0.1111111111111111,\"#46039f\"],[0.2222222222222222,\"#7201a8\"],[0.3333333333333333,\"#9c179e\"],[0.4444444444444444,\"#bd3786\"],[0.5555555555555556,\"#d8576b\"],[0.6666666666666666,\"#ed7953\"],[0.7777777777777778,\"#fb9f3a\"],[0.8888888888888888,\"#fdca26\"],[1.0,\"#f0f921\"]],\"type\":\"heatmap\"}],\"heatmapgl\":[{\"colorbar\":{\"outlinewidth\":0,\"ticks\":\"\"},\"colorscale\":[[0.0,\"#0d0887\"],[0.1111111111111111,\"#46039f\"],[0.2222222222222222,\"#7201a8\"],[0.3333333333333333,\"#9c179e\"],[0.4444444444444444,\"#bd3786\"],[0.5555555555555556,\"#d8576b\"],[0.6666666666666666,\"#ed7953\"],[0.7777777777777778,\"#fb9f3a\"],[0.8888888888888888,\"#fdca26\"],[1.0,\"#f0f921\"]],\"type\":\"heatmapgl\"}],\"histogram\":[{\"marker\":{\"pattern\":{\"fillmode\":\"overlay\",\"size\":10,\"solidity\":0.2}},\"type\":\"histogram\"}],\"histogram2d\":[{\"colorbar\":{\"outlinewidth\":0,\"ticks\":\"\"},\"colorscale\":[[0.0,\"#0d0887\"],[0.1111111111111111,\"#46039f\"],[0.2222222222222222,\"#7201a8\"],[0.3333333333333333,\"#9c179e\"],[0.4444444444444444,\"#bd3786\"],[0.5555555555555556,\"#d8576b\"],[0.6666666666666666,\"#ed7953\"],[0.7777777777777778,\"#fb9f3a\"],[0.8888888888888888,\"#fdca26\"],[1.0,\"#f0f921\"]],\"type\":\"histogram2d\"}],\"histogram2dcontour\":[{\"colorbar\":{\"outlinewidth\":0,\"ticks\":\"\"},\"colorscale\":[[0.0,\"#0d0887\"],[0.1111111111111111,\"#46039f\"],[0.2222222222222222,\"#7201a8\"],[0.3333333333333333,\"#9c179e\"],[0.4444444444444444,\"#bd3786\"],[0.5555555555555556,\"#d8576b\"],[0.6666666666666666,\"#ed7953\"],[0.7777777777777778,\"#fb9f3a\"],[0.8888888888888888,\"#fdca26\"],[1.0,\"#f0f921\"]],\"type\":\"histogram2dcontour\"}],\"mesh3d\":[{\"colorbar\":{\"outlinewidth\":0,\"ticks\":\"\"},\"type\":\"mesh3d\"}],\"parcoords\":[{\"line\":{\"colorbar\":{\"outlinewidth\":0,\"ticks\":\"\"}},\"type\":\"parcoords\"}],\"pie\":[{\"automargin\":true,\"type\":\"pie\"}],\"scatter\":[{\"marker\":{\"colorbar\":{\"outlinewidth\":0,\"ticks\":\"\"}},\"type\":\"scatter\"}],\"scatter3d\":[{\"line\":{\"colorbar\":{\"outlinewidth\":0,\"ticks\":\"\"}},\"marker\":{\"colorbar\":{\"outlinewidth\":0,\"ticks\":\"\"}},\"type\":\"scatter3d\"}],\"scattercarpet\":[{\"marker\":{\"colorbar\":{\"outlinewidth\":0,\"ticks\":\"\"}},\"type\":\"scattercarpet\"}],\"scattergeo\":[{\"marker\":{\"colorbar\":{\"outlinewidth\":0,\"ticks\":\"\"}},\"type\":\"scattergeo\"}],\"scattergl\":[{\"marker\":{\"colorbar\":{\"outlinewidth\":0,\"ticks\":\"\"}},\"type\":\"scattergl\"}],\"scattermapbox\":[{\"marker\":{\"colorbar\":{\"outlinewidth\":0,\"ticks\":\"\"}},\"type\":\"scattermapbox\"}],\"scatterpolar\":[{\"marker\":{\"colorbar\":{\"outlinewidth\":0,\"ticks\":\"\"}},\"type\":\"scatterpolar\"}],\"scatterpolargl\":[{\"marker\":{\"colorbar\":{\"outlinewidth\":0,\"ticks\":\"\"}},\"type\":\"scatterpolargl\"}],\"scatterternary\":[{\"marker\":{\"colorbar\":{\"outlinewidth\":0,\"ticks\":\"\"}},\"type\":\"scatterternary\"}],\"surface\":[{\"colorbar\":{\"outlinewidth\":0,\"ticks\":\"\"},\"colorscale\":[[0.0,\"#0d0887\"],[0.1111111111111111,\"#46039f\"],[0.2222222222222222,\"#7201a8\"],[0.3333333333333333,\"#9c179e\"],[0.4444444444444444,\"#bd3786\"],[0.5555555555555556,\"#d8576b\"],[0.6666666666666666,\"#ed7953\"],[0.7777777777777778,\"#fb9f3a\"],[0.8888888888888888,\"#fdca26\"],[1.0,\"#f0f921\"]],\"type\":\"surface\"}],\"table\":[{\"cells\":{\"fill\":{\"color\":\"#EBF0F8\"},\"line\":{\"color\":\"white\"}},\"header\":{\"fill\":{\"color\":\"#C8D4E3\"},\"line\":{\"color\":\"white\"}},\"type\":\"table\"}]},\"layout\":{\"annotationdefaults\":{\"arrowcolor\":\"#2a3f5f\",\"arrowhead\":0,\"arrowwidth\":1},\"autotypenumbers\":\"strict\",\"coloraxis\":{\"colorbar\":{\"outlinewidth\":0,\"ticks\":\"\"}},\"colorscale\":{\"diverging\":[[0,\"#8e0152\"],[0.1,\"#c51b7d\"],[0.2,\"#de77ae\"],[0.3,\"#f1b6da\"],[0.4,\"#fde0ef\"],[0.5,\"#f7f7f7\"],[0.6,\"#e6f5d0\"],[0.7,\"#b8e186\"],[0.8,\"#7fbc41\"],[0.9,\"#4d9221\"],[1,\"#276419\"]],\"sequential\":[[0.0,\"#0d0887\"],[0.1111111111111111,\"#46039f\"],[0.2222222222222222,\"#7201a8\"],[0.3333333333333333,\"#9c179e\"],[0.4444444444444444,\"#bd3786\"],[0.5555555555555556,\"#d8576b\"],[0.6666666666666666,\"#ed7953\"],[0.7777777777777778,\"#fb9f3a\"],[0.8888888888888888,\"#fdca26\"],[1.0,\"#f0f921\"]],\"sequentialminus\":[[0.0,\"#0d0887\"],[0.1111111111111111,\"#46039f\"],[0.2222222222222222,\"#7201a8\"],[0.3333333333333333,\"#9c179e\"],[0.4444444444444444,\"#bd3786\"],[0.5555555555555556,\"#d8576b\"],[0.6666666666666666,\"#ed7953\"],[0.7777777777777778,\"#fb9f3a\"],[0.8888888888888888,\"#fdca26\"],[1.0,\"#f0f921\"]]},\"colorway\":[\"#636efa\",\"#EF553B\",\"#00cc96\",\"#ab63fa\",\"#FFA15A\",\"#19d3f3\",\"#FF6692\",\"#B6E880\",\"#FF97FF\",\"#FECB52\"],\"font\":{\"color\":\"#2a3f5f\"},\"geo\":{\"bgcolor\":\"white\",\"lakecolor\":\"white\",\"landcolor\":\"#E5ECF6\",\"showlakes\":true,\"showland\":true,\"subunitcolor\":\"white\"},\"hoverlabel\":{\"align\":\"left\"},\"hovermode\":\"closest\",\"mapbox\":{\"style\":\"light\"},\"paper_bgcolor\":\"white\",\"plot_bgcolor\":\"#E5ECF6\",\"polar\":{\"angularaxis\":{\"gridcolor\":\"white\",\"linecolor\":\"white\",\"ticks\":\"\"},\"bgcolor\":\"#E5ECF6\",\"radialaxis\":{\"gridcolor\":\"white\",\"linecolor\":\"white\",\"ticks\":\"\"}},\"scene\":{\"xaxis\":{\"backgroundcolor\":\"#E5ECF6\",\"gridcolor\":\"white\",\"gridwidth\":2,\"linecolor\":\"white\",\"showbackground\":true,\"ticks\":\"\",\"zerolinecolor\":\"white\"},\"yaxis\":{\"backgroundcolor\":\"#E5ECF6\",\"gridcolor\":\"white\",\"gridwidth\":2,\"linecolor\":\"white\",\"showbackground\":true,\"ticks\":\"\",\"zerolinecolor\":\"white\"},\"zaxis\":{\"backgroundcolor\":\"#E5ECF6\",\"gridcolor\":\"white\",\"gridwidth\":2,\"linecolor\":\"white\",\"showbackground\":true,\"ticks\":\"\",\"zerolinecolor\":\"white\"}},\"shapedefaults\":{\"line\":{\"color\":\"#2a3f5f\"}},\"ternary\":{\"aaxis\":{\"gridcolor\":\"white\",\"linecolor\":\"white\",\"ticks\":\"\"},\"baxis\":{\"gridcolor\":\"white\",\"linecolor\":\"white\",\"ticks\":\"\"},\"bgcolor\":\"#E5ECF6\",\"caxis\":{\"gridcolor\":\"white\",\"linecolor\":\"white\",\"ticks\":\"\"}},\"title\":{\"x\":0.05},\"xaxis\":{\"automargin\":true,\"gridcolor\":\"white\",\"linecolor\":\"white\",\"ticks\":\"\",\"title\":{\"standoff\":15},\"zerolinecolor\":\"white\",\"zerolinewidth\":2},\"yaxis\":{\"automargin\":true,\"gridcolor\":\"white\",\"linecolor\":\"white\",\"ticks\":\"\",\"title\":{\"standoff\":15},\"zerolinecolor\":\"white\",\"zerolinewidth\":2}}},\"xaxis\":{\"anchor\":\"y\",\"domain\":[0.0,1.0],\"title\":{\"text\":\"error\"}},\"yaxis\":{\"anchor\":\"x\",\"domain\":[0.0,1.0],\"title\":{\"text\":\"count\"}},\"legend\":{\"tracegroupgap\":0},\"margin\":{\"t\":60},\"barmode\":\"relative\",\"width\":800},                        {\"responsive\": true}                    ).then(function(){\n",
              "                            \n",
              "var gd = document.getElementById('02a1365c-84f7-42cf-9ebd-e7a8f5fee9ab');\n",
              "var x = new MutationObserver(function (mutations, observer) {{\n",
              "        var display = window.getComputedStyle(gd).display;\n",
              "        if (!display || display === 'none') {{\n",
              "            console.log([gd, 'removed!']);\n",
              "            Plotly.purge(gd);\n",
              "            observer.disconnect();\n",
              "        }}\n",
              "}});\n",
              "\n",
              "// Listen for the removal of the full notebook cells\n",
              "var notebookContainer = gd.closest('#notebook-container');\n",
              "if (notebookContainer) {{\n",
              "    x.observe(notebookContainer, {childList: true});\n",
              "}}\n",
              "\n",
              "// Listen for the clearing of the current output cell\n",
              "var outputEl = gd.closest('.output');\n",
              "if (outputEl) {{\n",
              "    x.observe(outputEl, {childList: true});\n",
              "}}\n",
              "\n",
              "                        })                };                            </script>        </div>\n",
              "</body>\n",
              "</html>"
            ]
          },
          "metadata": {}
        }
      ]
    },
    {
      "cell_type": "markdown",
      "source": [
        "#Mean Absolute Error - Średnie błąd bezwzględny"
      ],
      "metadata": {
        "id": "iUVz7CwHZNVL"
      }
    },
    {
      "cell_type": "code",
      "source": [
        "def mean_absolute_error(y_true, y_pred):\n",
        "    return abs(y_true - y_pred).sum() / len(y_true)\n",
        "\n",
        "mean_absolute_error(y_true, y_pred)"
      ],
      "metadata": {
        "colab": {
          "base_uri": "https://localhost:8080/"
        },
        "id": "CoT1ecZsZTXp",
        "outputId": "58615c39-a683-42ef-8fba-2afbe2cb34a6"
      },
      "execution_count": 10,
      "outputs": [
        {
          "output_type": "execute_result",
          "data": {
            "text/plain": [
              "8.03734293639673"
            ]
          },
          "metadata": {},
          "execution_count": 10
        }
      ]
    },
    {
      "cell_type": "code",
      "source": [
        "\n",
        "from sklearn.metrics import mean_absolute_error\n",
        "\n",
        "mean_absolute_error(y_true, y_pred)"
      ],
      "metadata": {
        "colab": {
          "base_uri": "https://localhost:8080/"
        },
        "id": "kVkZAr66am32",
        "outputId": "2ba8e00f-4561-42ab-c300-fd083e80afd6"
      },
      "execution_count": 12,
      "outputs": [
        {
          "output_type": "execute_result",
          "data": {
            "text/plain": [
              "8.03734293639673"
            ]
          },
          "metadata": {},
          "execution_count": 12
        }
      ]
    },
    {
      "cell_type": "markdown",
      "source": [
        "#Mean Squared Error - MSE - Błąd średniokwadratowy"
      ],
      "metadata": {
        "id": "ZPYceeylbCV6"
      }
    },
    {
      "cell_type": "code",
      "source": [
        "def mean_squared_error(y_true, y_pred):\n",
        "    return ((y_true - y_pred) ** 2).sum() / len(y_true)\n",
        "\n",
        "mean_squared_error(y_true, y_pred)"
      ],
      "metadata": {
        "colab": {
          "base_uri": "https://localhost:8080/"
        },
        "id": "6LfNmVIQasdk",
        "outputId": "c246747b-1add-46d5-c928-6094d4518db7"
      },
      "execution_count": 16,
      "outputs": [
        {
          "output_type": "execute_result",
          "data": {
            "text/plain": [
              "99.47739277472358"
            ]
          },
          "metadata": {},
          "execution_count": 16
        }
      ]
    },
    {
      "cell_type": "code",
      "source": [
        "from sklearn.metrics import mean_squared_error\n",
        "\n",
        "mean_squared_error(y_true, y_pred)\n",
        "     \n",
        "     "
      ],
      "metadata": {
        "colab": {
          "base_uri": "https://localhost:8080/"
        },
        "id": "S6x_dhEJbG_K",
        "outputId": "06056abf-c2f9-4110-aee4-c8bcd80e2846"
      },
      "execution_count": 17,
      "outputs": [
        {
          "output_type": "execute_result",
          "data": {
            "text/plain": [
              "99.47739277472358"
            ]
          },
          "metadata": {},
          "execution_count": 17
        }
      ]
    },
    {
      "cell_type": "markdown",
      "source": [
        "#Root Mean Squared Error - RMSE - Pierwiastek błędu średniokwadratowego"
      ],
      "metadata": {
        "id": "gKF7BLstbWUd"
      }
    },
    {
      "cell_type": "code",
      "source": [
        "def root_mean_squared_error(y_true, y_pred):\n",
        "    return np.sqrt(((y_true - y_pred) ** 2).sum() / len(y_true))\n",
        "\n",
        "root_mean_squared_error(y_true, y_pred)"
      ],
      "metadata": {
        "colab": {
          "base_uri": "https://localhost:8080/"
        },
        "id": "ZZL94Wo8bROM",
        "outputId": "85e581c1-7e78-4519-f70c-18d204b255b8"
      },
      "execution_count": 18,
      "outputs": [
        {
          "output_type": "execute_result",
          "data": {
            "text/plain": [
              "9.973835409446236"
            ]
          },
          "metadata": {},
          "execution_count": 18
        }
      ]
    },
    {
      "cell_type": "code",
      "source": [
        "np.sqrt(mean_squared_error(y_true, y_pred))"
      ],
      "metadata": {
        "colab": {
          "base_uri": "https://localhost:8080/"
        },
        "id": "q2DwKiwQbaXL",
        "outputId": "c06bbd35-7fcb-4431-bdf6-5d1d058a88f6"
      },
      "execution_count": 19,
      "outputs": [
        {
          "output_type": "execute_result",
          "data": {
            "text/plain": [
              "9.973835409446236"
            ]
          },
          "metadata": {},
          "execution_count": 19
        }
      ]
    },
    {
      "cell_type": "markdown",
      "source": [
        "#Max Error - Błąd maksymalny"
      ],
      "metadata": {
        "id": "TASk54KYb1ck"
      }
    },
    {
      "cell_type": "code",
      "source": [
        "def max_error(y_true, y_pred):\n",
        "    return abs(y_true - y_pred).max()\n",
        "\n",
        "max_error(y_true, y_pred)"
      ],
      "metadata": {
        "colab": {
          "base_uri": "https://localhost:8080/"
        },
        "id": "yrWZtz64b3Sd",
        "outputId": "cd452b50-7c44-447e-a1cd-360b09c73961"
      },
      "execution_count": 20,
      "outputs": [
        {
          "output_type": "execute_result",
          "data": {
            "text/plain": [
              "31.794377180087835"
            ]
          },
          "metadata": {},
          "execution_count": 20
        }
      ]
    },
    {
      "cell_type": "code",
      "source": [
        "from sklearn.metrics import max_error\n",
        "\n",
        "max_error(y_true, y_pred)"
      ],
      "metadata": {
        "colab": {
          "base_uri": "https://localhost:8080/"
        },
        "id": "FmqFO2Heb9Q8",
        "outputId": "52e77bf1-6dff-4c09-d57d-f665cf8147ae"
      },
      "execution_count": 21,
      "outputs": [
        {
          "output_type": "execute_result",
          "data": {
            "text/plain": [
              "31.794377180087835"
            ]
          },
          "metadata": {},
          "execution_count": 21
        }
      ]
    },
    {
      "cell_type": "markdown",
      "source": [
        "#R2 score - współczynnik determinacji"
      ],
      "metadata": {
        "id": "wDqoPxlIcHhR"
      }
    },
    {
      "cell_type": "code",
      "source": [
        "from sklearn.metrics import r2_score\n",
        "\n",
        "r2_score(y_true, y_pred)\n",
        "\n",
        "# domyślna metoda weryfikacji modelu w sklearn\n",
        "# im bliżej 1 tym lepiej"
      ],
      "metadata": {
        "colab": {
          "base_uri": "https://localhost:8080/"
        },
        "id": "BW_V9Cv0cI9L",
        "outputId": "0b6fd670-2bb5-4a9a-9100-1d737ace5895"
      },
      "execution_count": 23,
      "outputs": [
        {
          "output_type": "execute_result",
          "data": {
            "text/plain": [
              "0.7329788258157949"
            ]
          },
          "metadata": {},
          "execution_count": 23
        }
      ]
    },
    {
      "cell_type": "code",
      "source": [
        "def r2_score(y_true, y_pred):\n",
        "    numerator = ((y_true - y_pred) ** 2).sum()\n",
        "    denominator = ((y_true - y_true.mean()) ** 2).sum()\n",
        "    try:\n",
        "        r2 = 1 - numerator / denominator\n",
        "    except ZeroDivisionError:\n",
        "        print('Dzielenie przez zero')\n",
        "    return r2"
      ],
      "metadata": {
        "id": "R8rTDo9LcN9k"
      },
      "execution_count": 24,
      "outputs": []
    },
    {
      "cell_type": "code",
      "source": [
        "r2_score(y_true, y_pred)"
      ],
      "metadata": {
        "colab": {
          "base_uri": "https://localhost:8080/"
        },
        "id": "uKnQx2DLcR1b",
        "outputId": "1c33780d-4293-4838-ff3f-6219c9d9e3c1"
      },
      "execution_count": 25,
      "outputs": [
        {
          "output_type": "execute_result",
          "data": {
            "text/plain": [
              "0.7329788258157949"
            ]
          },
          "metadata": {},
          "execution_count": 25
        }
      ]
    }
  ]
}